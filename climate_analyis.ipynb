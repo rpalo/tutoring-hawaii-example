{
 "cells": [
  {
   "cell_type": "code",
   "execution_count": 3,
   "metadata": {
    "collapsed": false,
    "deletable": true,
    "editable": true
   },
   "outputs": [],
   "source": [
    "import pandas as pd\n",
    "from sqlalchemy import create_engine\n",
    "\n",
    "engine = create_engine(\"sqlite:///data.sqlite3\", echo=True)"
   ]
  },
  {
   "cell_type": "code",
   "execution_count": 9,
   "metadata": {
    "collapsed": false,
    "deletable": true,
    "editable": true
   },
   "outputs": [
    {
     "name": "stdout",
     "output_type": "stream",
     "text": [
      "2018-05-03 18:53:48,962 INFO sqlalchemy.engine.base.Engine SELECT name FROM sqlite_master WHERE type='table' ORDER BY name\n",
      "2018-05-03 18:53:48,964 INFO sqlalchemy.engine.base.Engine ()\n",
      "2018-05-03 18:53:48,967 INFO sqlalchemy.engine.base.Engine PRAGMA table_info(\"measurements\")\n",
      "2018-05-03 18:53:48,968 INFO sqlalchemy.engine.base.Engine ()\n",
      "2018-05-03 18:53:48,971 INFO sqlalchemy.engine.base.Engine SELECT sql FROM  (SELECT * FROM sqlite_master UNION ALL   SELECT * FROM sqlite_temp_master) WHERE name = 'measurements' AND type = 'table'\n",
      "2018-05-03 18:53:48,972 INFO sqlalchemy.engine.base.Engine ()\n",
      "2018-05-03 18:53:48,976 INFO sqlalchemy.engine.base.Engine PRAGMA foreign_key_list(\"measurements\")\n",
      "2018-05-03 18:53:48,977 INFO sqlalchemy.engine.base.Engine ()\n",
      "2018-05-03 18:53:48,979 INFO sqlalchemy.engine.base.Engine SELECT sql FROM  (SELECT * FROM sqlite_master UNION ALL   SELECT * FROM sqlite_temp_master) WHERE name = 'measurements' AND type = 'table'\n",
      "2018-05-03 18:53:48,983 INFO sqlalchemy.engine.base.Engine ()\n",
      "2018-05-03 18:53:48,987 INFO sqlalchemy.engine.base.Engine PRAGMA index_list(\"measurements\")\n",
      "2018-05-03 18:53:48,990 INFO sqlalchemy.engine.base.Engine ()\n",
      "2018-05-03 18:53:48,991 INFO sqlalchemy.engine.base.Engine PRAGMA index_list(\"measurements\")\n",
      "2018-05-03 18:53:48,993 INFO sqlalchemy.engine.base.Engine ()\n",
      "2018-05-03 18:53:48,994 INFO sqlalchemy.engine.base.Engine SELECT sql FROM  (SELECT * FROM sqlite_master UNION ALL   SELECT * FROM sqlite_temp_master) WHERE name = 'measurements' AND type = 'table'\n",
      "2018-05-03 18:53:48,995 INFO sqlalchemy.engine.base.Engine ()\n"
     ]
    }
   ],
   "source": [
    "from sqlalchemy.ext.automap import automap_base\n",
    "\n",
    "Base = automap_base()\n",
    "Base.prepare(engine, reflect=True)\n",
    "Measurement = Base.classes.measurements"
   ]
  },
  {
   "cell_type": "code",
   "execution_count": null,
   "metadata": {
    "collapsed": true
   },
   "outputs": [],
   "source": [
    "from sqlalchemy.orm import sessionmaker\n",
    "\n",
    "Session = sessionmaker(bind=engine)\n",
    "session = Session()\n"
   ]
  }
 ],
 "metadata": {
  "kernelspec": {
   "display_name": "Tutoring Hawaii",
   "language": "python",
   "name": "tutoring-hawaii-jqq82hsm"
  }
 },
 "nbformat": 4,
 "nbformat_minor": 2
}
